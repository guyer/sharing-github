{
 "cells": [
  {
   "cell_type": "markdown",
   "metadata": {},
   "source": [
    "The equations that we are trying solve are those of the paper titled \"Diffuse-charge dynamics in electrochemical systems\" by Bazant, Thornton and Ajdari published in https://journals.aps.org/pre/abstract/10.1103/PhysRevE.70.021506"
   ]
  },
  {
   "cell_type": "code",
   "execution_count": 1,
   "metadata": {
    "ExecuteTime": {
     "end_time": "2020-02-24T22:19:44.587727Z",
     "start_time": "2020-02-24T22:19:43.884730Z"
    }
   },
   "outputs": [],
   "source": [
    "from fipy import *\n",
    "m = Grid1D(nx=100,Lx=2.0)\n",
    "v = 1\n",
    "epsilon= 0.05\n",
    "delta = 0.1\n",
    "x = m.cellCenters[0]"
   ]
  },
  {
   "cell_type": "markdown",
   "metadata": {},
   "source": [
    "The set of equations is "
   ]
  },
  {
   "cell_type": "markdown",
   "metadata": {},
   "source": [
    "\\begin{equation}\n",
    "\\begin{split}\n",
    "\\frac{\\partial c}{\\partial t}\n",
    "&= \\varepsilon\\frac{\\partial}{\\partial x} \\left(\\frac{\\partial c}{\\partial x} + \\rho\\frac{\\partial \\phi}{\\partial x}\\right)\\\\\n",
    "\\frac{\\partial \\rho}{\\partial t} \n",
    "&=  \\varepsilon\\frac{\\partial}{\\partial x} \\left(\\frac{\\partial\\rho}{\\partial x}  + c \\frac{\\partial \\phi}{\\partial x}\\right)\\\\\n",
    "-\\varepsilon^2 \\frac{\\partial^2\\phi}{\\partial x^2} &= \\rho\n",
    "\\end{split}\n",
    "\\end{equation}"
   ]
  },
  {
   "cell_type": "markdown",
   "metadata": {},
   "source": [
    "With the initial conditions"
   ]
  },
  {
   "cell_type": "markdown",
   "metadata": {},
   "source": [
    "\\begin{equation}\n",
    "\\begin{split}\n",
    "c(x,0) &= 1\\\\\n",
    "\\rho(x,0) &= 0\\\\\n",
    "\\phi(x,0) &= v(x-1)\\\\\n",
    "\\end{split}\n",
    "\\end{equation}\n"
   ]
  },
  {
   "cell_type": "markdown",
   "metadata": {},
   "source": [
    "and the boundary conditions"
   ]
  },
  {
   "cell_type": "markdown",
   "metadata": {},
   "source": [
    "\\begin{equation}\n",
    "\\begin{split}\n",
    "\\frac{\\partial c}{\\partial x} + \\rho\\frac{\\partial \\phi}{\\partial x} &= 0\\\\\n",
    "\\frac{\\partial \\rho}{\\partial x} + c\\frac{\\partial \\phi}{\\partial x} &= 0\\\\\n",
    "\\text{where both fluxes are zero at} &\\quad\\text{$x = 0$ and $x=2$}\\\\\n",
    "\\end{split}\n",
    "\\end{equation}"
   ]
  },
  {
   "cell_type": "markdown",
   "metadata": {},
   "source": [
    "\\begin{equation}\n",
    "\\phi = +v - \\varepsilon\\delta \\frac{\\partial \\phi}{\\partial x} \\quad\\text{at $x = 2$}\n",
    "\\end{equation}\n",
    "\n",
    "\\begin{equation}\n",
    "\\phi = -v + \\varepsilon\\delta \\frac{\\partial \\phi}{\\partial x} \\quad\\text{at $x = 0$}\n",
    "\\end{equation}"
   ]
  },
  {
   "cell_type": "code",
   "execution_count": 23,
   "metadata": {
    "ExecuteTime": {
     "end_time": "2020-02-25T14:49:13.209998Z",
     "start_time": "2020-02-25T14:49:13.199313Z"
    }
   },
   "outputs": [],
   "source": [
    "##Initial conditions\n",
    "c = CellVariable(name=\"c\", mesh=m , value=1.0, hasOld=True)\n",
    "\n",
    "rho = CellVariable(name=\"rho\", mesh=m , value=1., hasOld=True)\n",
    "\n",
    "phi = CellVariable(name=\"phi\",mesh=m, hasOld=True)\n",
    "phi.setValue(v*(x-1))\n",
    "\n",
    "#vi =Viewer((phi, c, rho),datamin=-1.1, datamax=1.1)"
   ]
  },
  {
   "cell_type": "markdown",
   "metadata": {},
   "source": [
    "No-flux conditions are satisfied by default in FiPy. Constraint on $\\phi$ is a [Robin condition](https://www.ctcms.nist.gov/fipy/documentation/USAGE.html#applying-robin-boundary-conditions)."
   ]
  },
  {
   "cell_type": "code",
   "execution_count": 19,
   "metadata": {
    "ExecuteTime": {
     "end_time": "2020-02-25T14:48:20.453164Z",
     "start_time": "2020-02-25T14:48:20.447926Z"
    }
   },
   "outputs": [],
   "source": [
    "##Boundary conditions\n",
    "# c.faceGrad.constrain(-rho.faceValue*phi.faceGrad, where=m.facesLeft)\n",
    "# c.faceGrad.constrain(-rho.faceValue*phi.faceGrad, where=m.facesRight)\n",
    "\n",
    "# rho.faceGrad.constrain(-c.faceValue*phi.faceGrad, where=m.facesLeft)\n",
    "# rho.faceGrad.constrain(-c.faceValue*phi.faceGrad, where=m.facesRight)\n",
    "\n",
    "#phi.faceGrad.constrain((phi.faceValue+v)/(epsilon*delta), where=m.facesLeft)\n",
    "#phi.faceGrad.constrain((phi.faceValue-v)/(-epsilon*delta), where=m.facesRight)"
   ]
  },
  {
   "cell_type": "markdown",
   "metadata": {},
   "source": [
    "Calculate `cellDistanceVectors` manually because of issue [#706](https://github.com/usnistgov/fipy/issues/706) "
   ]
  },
  {
   "cell_type": "code",
   "execution_count": null,
   "metadata": {},
   "outputs": [],
   "source": [
    "from fipy.tools import numerix\n",
    "MA = numerix.MA\n",
    "\n",
    "tmp = MA.repeat(m._faceCenters[..., numerix.NewAxis,:], 2, 1)\n",
    "cellToFaceDistanceVectors = tmp - numerix.take(m._cellCenters, m.faceCellIDs, axis=1)\n",
    "\n",
    "tmp = numerix.take(m._cellCenters, m.faceCellIDs, axis=1)\n",
    "tmp = tmp[..., 1,:] - tmp[..., 0,:]\n",
    "cellDistanceVectors = MA.filled(MA.where(MA.getmaskarray(tmp), cellToFaceDistanceVectors[:, 0], tmp))"
   ]
  },
  {
   "cell_type": "code",
   "execution_count": null,
   "metadata": {},
   "outputs": [],
   "source": [
    "mask = m.exteriorFaces\n",
    "Gamma = FaceVariable(mesh=m, value=epsilon*epsilon)\n",
    "Gamma.setValue(0., where=mask)\n",
    "dPf = FaceVariable(mesh=m,\n",
    "                   value=m._faceToCellDistanceRatio * cellDistanceVectors)\n",
    "n = m.faceNormals\n",
    "a = m.faceNormals\n",
    "b = FaceVariable(mesh=m, value=epsilon * delta, rank=0)\n",
    "g = FaceVariable(mesh=m, value=v, rank=0)\n",
    "RobinCoeff = mask * epsilon * epsilon * n / (-dPf.dot(a) + b)"
   ]
  },
  {
   "cell_type": "code",
   "execution_count": 20,
   "metadata": {
    "ExecuteTime": {
     "end_time": "2020-02-25T14:48:21.335199Z",
     "start_time": "2020-02-25T14:48:21.289625Z"
    }
   },
   "outputs": [],
   "source": [
    "##Equation\n",
    "\n",
    "Drho = epsilon*rho\n",
    "Dc   = epsilon*c\n",
    "\n",
    "eq1 = TransientTerm(var=c) == DiffusionTerm(coeff=epsilon, var=c) +DiffusionTerm(coeff=Drho, var=phi)\n",
    "eq2 = TransientTerm(var=rho) == DiffusionTerm(coeff=epsilon, var=rho) +DiffusionTerm(coeff=Dc, var=phi)\n",
    "eq3 = (DiffusionTerm(coeff=Gamma, var=phi) + (RobinCoeff * g).divergence\n",
    "       - ImplicitSourceTerm(coeff=(RobinCoeff).divergence, var=phi) + ImplicitSourceTerm(coeff=1.0, var=rho)) == 0\n",
    "eqns = eq1 & eq2 & eq3 "
   ]
  },
  {
   "cell_type": "code",
   "execution_count": 21,
   "metadata": {
    "ExecuteTime": {
     "end_time": "2020-02-25T14:48:23.511588Z",
     "start_time": "2020-02-25T14:48:21.984830Z"
    }
   },
   "outputs": [
    {
     "name": "stdout",
     "output_type": "stream",
     "text": [
      "0.9977111011742081\n",
      "5.210154151104807e+52\n",
      "3.732246565196109e+94\n",
      "2.732172022077301e+117\n",
      "4.174789496284858e+121\n",
      "8.336282317882696e+129\n",
      "1.8262406026277956e+117\n",
      "1.2467051786290536e+128\n",
      "4.9592150756157276e+151\n",
      "8.514249947026511e+140\n",
      "6.151196898588066e+133\n",
      "9.068402753909994e+151\n",
      "1.0360423734597117e+143\n",
      "inf\n",
      "inf\n",
      "inf\n",
      "inf\n",
      "inf\n",
      "inf\n",
      "inf\n",
      "inf\n",
      "inf\n",
      "inf\n",
      "inf\n",
      "inf\n",
      "inf\n",
      "inf\n",
      "inf\n",
      "inf\n",
      "inf\n",
      "inf\n",
      "inf\n",
      "inf\n",
      "inf\n",
      "inf\n",
      "inf\n",
      "inf\n",
      "inf\n",
      "inf\n",
      "inf\n",
      "inf\n",
      "nan\n"
     ]
    }
   ],
   "source": [
    "##Solve\n",
    "#vi =Viewer((phi, c, rho),datamin=-1.1, datamax=1.1)\n",
    "#from builtins import range\n",
    "\n",
    "res = 1e+10\n",
    "restol= 1e-13\n",
    "\n",
    "for t in range(100):\n",
    "    c.updateOld()\n",
    "    rho.updateOld()\n",
    "    phi.updateOld()\n",
    "    while res > restol:\n",
    "        res = eqns.sweep(dt=1e-15)\n",
    "        print(res)\n",
    "    \n",
    "#if __name__=='__main__':\n",
    "#        vi.plot()\n",
    "#        raw_input(\"No-flux -- stationary. Press <return> to proceed..\")\n"
   ]
  },
  {
   "cell_type": "markdown",
   "metadata": {},
   "source": [
    "However the solution method above gave some errors, originated with the warning \"self.factorizeFnc(*args, **kwargs)\" "
   ]
  },
  {
   "cell_type": "code",
   "execution_count": null,
   "metadata": {
    "collapsed": true
   },
   "outputs": [],
   "source": []
  }
 ],
 "metadata": {
  "kernelspec": {
   "display_name": "Python 2",
   "language": "python",
   "name": "python2"
  },
  "language_info": {
   "codemirror_mode": {
    "name": "ipython",
    "version": 2
   },
   "file_extension": ".py",
   "mimetype": "text/x-python",
   "name": "python",
   "nbconvert_exporter": "python",
   "pygments_lexer": "ipython2",
   "version": "2.7.15"
  },
  "toc": {
   "base_numbering": 1,
   "nav_menu": {},
   "number_sections": true,
   "sideBar": true,
   "skip_h1_title": false,
   "title_cell": "Table of Contents",
   "title_sidebar": "Contents",
   "toc_cell": false,
   "toc_position": {},
   "toc_section_display": true,
   "toc_window_display": false
  }
 },
 "nbformat": 4,
 "nbformat_minor": 2
}
